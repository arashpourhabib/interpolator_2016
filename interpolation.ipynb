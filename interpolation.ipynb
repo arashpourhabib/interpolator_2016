{
 "cells": [
  {
   "cell_type": "code",
   "execution_count": 1,
   "metadata": {
    "collapsed": false
   },
   "outputs": [
    {
     "name": "stdout",
     "output_type": "stream",
     "text": [
      "Populating the interactive namespace from numpy and matplotlib\n"
     ]
    }
   ],
   "source": [
    "%pylab inline --no-import-all"
   ]
  },
  {
   "cell_type": "code",
   "execution_count": 89,
   "metadata": {
    "collapsed": false,
    "scrolled": true
   },
   "outputs": [],
   "source": [
    "n=10\n",
    "x = np.linspace(0,10,n)\n",
    "f = np.sin(.3*np.pi*x)*np.exp(x/10)\n",
    "sigma = 0.1\n",
    "np.random.seed(10)\n",
    "noise = sigma*np.random.randn(n)\n",
    "y = f+noise\n"
   ]
  },
  {
   "cell_type": "markdown",
   "metadata": {},
   "source": [
    "Define \n",
    "\n",
    "$$\\phi(x_1,x_2)=\\alpha \\exp\\left(-\\frac{\\|x_1-x_2\\|^2}{2\\beta}\\right).$$\n",
    "\n",
    "\n",
    "Note that\n",
    "$$y=\\Phi u$$\n",
    "has a unique solution."
   ]
  },
  {
   "cell_type": "code",
   "execution_count": 90,
   "metadata": {
    "collapsed": false
   },
   "outputs": [
    {
     "data": {
      "text/plain": [
       "[<matplotlib.lines.Line2D at 0x83fda90>]"
      ]
     },
     "execution_count": 90,
     "metadata": {},
     "output_type": "execute_result"
    },
    {
     "data": {
      "image/png": "[encoded data removed]",
      "text/plain": [
       "<matplotlib.figure.Figure at 0x83fd4e0>"
      ]
     },
     "metadata": {},
     "output_type": "display_data"
    }
   ],
   "source": [
    "def phi(x1,x2,alpha = .2,beta = 1):\n",
    "    x1 = np.array(x1)\n",
    "    x2 = np.array(x2)\n",
    "    diff = np.linalg.norm(x1-x2)\n",
    "    return alpha*np.exp(-diff**2/(2*beta))\n",
    "Phi = np.zeros((n,n))\n",
    "for i in range(n):\n",
    "    for j in range(n):\n",
    "        Phi[i,j] = phi(x[i],x[j])\n",
    "u = np.linalg.solve(Phi,y)\n",
    "def f_int(x_int, u, phi, x):\n",
    "    n = x.shape[0]\n",
    "    phi_x = np.zeros((n,1))\n",
    "    for i in range(n):\n",
    "        phi_x[i] = phi(x_int,x[i])\n",
    "    return np.float(np.dot(np.transpose(phi_x),u))\n",
    "        \n",
    "    \n",
    "n_int = 100\n",
    "x_int = np.linspace(0,10,n_int)\n",
    "y_int = np.zeros((n_int,1))\n",
    "for i in range(n_int):\n",
    "    y_int[i] = f_int(x_int[i],u,phi,x)\n",
    "plt.plot(x,y,'o')\n",
    "plt.plot(x_int,y_int,'--r')  "
   ]
  },
  {
   "cell_type": "code",
   "execution_count": null,
   "metadata": {
    "collapsed": true
   },
   "outputs": [],
   "source": []
  }
 ],
 "metadata": {
  "kernelspec": {
   "display_name": "Python 3",
   "language": "python",
   "name": "python3"
  },
  "language_info": {
   "codemirror_mode": {
    "name": "ipython",
    "version": 3
   },
   "file_extension": ".py",
   "mimetype": "text/x-python",
   "name": "python",
   "nbconvert_exporter": "python",
   "pygments_lexer": "ipython3",
   "version": "3.4.3"
  }
 },
 "nbformat": 4,
 "nbformat_minor": 0
}
